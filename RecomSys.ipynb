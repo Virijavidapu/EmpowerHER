{
 "cells": [
  {
   "cell_type": "code",
   "execution_count": 1,
   "id": "36e36cdc-a9c3-42de-966b-4b30ecd0d218",
   "metadata": {},
   "outputs": [
    {
     "name": "stdout",
     "output_type": "stream",
     "text": [
      "               precision    recall  f1-score   support\n",
      "\n",
      "Bright Winter       0.97      0.99      0.98       201\n",
      " Clear Spring       0.89      0.82      0.86       216\n",
      "  Cool Summer       0.71      0.79      0.75       185\n",
      "  Dark Winter       0.99      1.00      1.00       201\n",
      "  Deep Autumn       0.77      0.71      0.74       195\n",
      "  Deep Winter       0.95      1.00      0.98       210\n",
      " Light Spring       0.86      0.88      0.87       200\n",
      " Light Summer       0.80      0.77      0.79       222\n",
      "  Soft Autumn       0.72      0.81      0.76       186\n",
      "  Soft Summer       0.88      0.88      0.88       189\n",
      "  Warm Autumn       0.77      0.73      0.75       187\n",
      "  Warm Spring       0.89      0.82      0.85       208\n",
      "\n",
      "     accuracy                           0.85      2400\n",
      "    macro avg       0.85      0.85      0.85      2400\n",
      " weighted avg       0.85      0.85      0.85      2400\n",
      "\n",
      "Predicted Season: Warm Autumn\n",
      "Recommended Colors: #CC4E5C,#FFDF00,#6B8E23,#CC5500,#8B0000,#964B00,#FF6347\n",
      "Not Recommended Colors: #50C878,#0F52BA,#4169E1,#36454F,#008080,#4B0082,#580F41\n"
     ]
    },
    {
     "name": "stderr",
     "output_type": "stream",
     "text": [
      "c:\\users\\-\\appdata\\local\\programs\\python\\python38\\lib\\site-packages\\sklearn\\base.py:465: UserWarning: X does not have valid feature names, but RandomForestClassifier was fitted with feature names\n",
      "  warnings.warn(\n"
     ]
    },
    {
     "data": {
      "image/png": "[encoded data removed]",
      "text/plain": [
       "<Figure size 800x200 with 1 Axes>"
      ]
     },
     "metadata": {},
     "output_type": "display_data"
    },
    {
     "data": {
      "image/png": "[encoded data removed]",
      "text/plain": [
       "<Figure size 700x100 with 1 Axes>"
      ]
     },
     "metadata": {},
     "output_type": "display_data"
    },
    {
     "data": {
      "image/png": "[encoded data removed]",
      "text/plain": [
       "<Figure size 800x200 with 1 Axes>"
      ]
     },
     "metadata": {},
     "output_type": "display_data"
    },
    {
     "data": {
      "image/png": "[encoded data removed]",
      "text/plain": [
       "<Figure size 700x100 with 1 Axes>"
      ]
     },
     "metadata": {},
     "output_type": "display_data"
    }
   ],
   "source": [
    "import pandas as pd\n",
    "\n",
    "import matplotlib.pyplot as plt\n",
    "import seaborn as sns\n",
    "from sklearn.model_selection import train_test_split\n",
    "from sklearn.ensemble import RandomForestClassifier\n",
    "from sklearn.metrics import classification_report\n",
    "\n",
    "# Load the CSV file into a DataFrame\n",
    "df = pd.read_csv('all_seasons_data.csv')\n",
    "\n",
    "# Ensure column names match exactly as in your CSV file\n",
    "# Adjust column names if necessary\n",
    "df.rename(columns={\n",
    "    'Hair_R': 'hair_r',\n",
    "    'Hair_G': 'hair_g',\n",
    "    'Hair_B': 'hair_b',\n",
    "    'Skin_R': 'skin_r',\n",
    "    'Skin_G': 'skin_g',\n",
    "    'Skin_B': 'skin_b',\n",
    "    'Eye_R': 'eye_r',\n",
    "    'Eye_G': 'eye_g',\n",
    "    'Eye_B': 'eye_b',\n",
    "    'Season': 'season',\n",
    "    'Recommended_Colors': 'recommended_colors',\n",
    "    'Not_Recommended_Colors': 'not_recommended_colors'\n",
    "}, inplace=True)\n",
    "\n",
    "# Scale RGB values to a suitable format (e.g., between 0 and 1)\n",
    "df['hair_r'] = df['hair_r'] / 255.0\n",
    "df['hair_g'] = df['hair_g'] / 255.0\n",
    "df['hair_b'] = df['hair_b'] / 255.0\n",
    "df['skin_r'] = df['skin_r'] / 255.0\n",
    "df['skin_g'] = df['skin_g'] / 255.0\n",
    "df['skin_b'] = df['skin_b'] / 255.0\n",
    "df['eye_r'] = df['eye_r'] / 255.0\n",
    "df['eye_g'] = df['eye_g'] / 255.0\n",
    "df['eye_b'] = df['eye_b'] / 255.0\n",
    "\n",
    "# Split data into features (X) and target (y)\n",
    "X = df[['hair_r', 'hair_g', 'hair_b', 'skin_r', 'skin_g', 'skin_b', 'eye_r', 'eye_g', 'eye_b']]\n",
    "y = df['season']\n",
    "\n",
    "# Split data into training and testing sets\n",
    "X_train, X_test, y_train, y_test = train_test_split(X, y, test_size=0.2, random_state=42)\n",
    "\n",
    "# Initialize a Random Forest Classifier with feature names\n",
    "feature_names = X.columns.tolist()  # Get column names as feature names\n",
    "rf_classifier = RandomForestClassifier(n_estimators=100, random_state=42)\n",
    "rf_classifier.fit(X_train, y_train)\n",
    "\n",
    "# Predictions on the test set\n",
    "y_pred = rf_classifier.predict(X_test)\n",
    "\n",
    "# Evaluate model performance\n",
    "print(classification_report(y_test, y_pred))\n",
    "\n",
    "# Example prediction for a new data point (replace with actual RGB values)\n",
    "new_data = [[0.3, 0.4, 0.2, 0.8, 0.7, 0.6, 0.5, 0.3, 0.1]]  # Example RGB values scaled between 0 and 1\n",
    "predicted_season = rf_classifier.predict(new_data)\n",
    "predicted_row = df[df['season'] == predicted_season[0]].iloc[0]\n",
    "\n",
    "print(f\"Predicted Season: {predicted_season[0]}\")\n",
    "print(f\"Recommended Colors: {predicted_row['recommended_colors']}\")\n",
    "print(f\"Not Recommended Colors: {predicted_row['not_recommended_colors']}\")\n",
    "\n",
    "# Visualize recommended and not recommended colors\n",
    "def plot_color_palette(colors, title):\n",
    "    fig, ax = plt.subplots(figsize=(8, 2))\n",
    "    sns.palplot(colors.split(','))\n",
    "    ax.set_title(title)\n",
    "    plt.show()\n",
    "\n",
    "plot_color_palette(predicted_row['recommended_colors'], \"Recommended Colors\")\n",
    "plot_color_palette(predicted_row['not_recommended_colors'], \"Not Recommended Colors\")\n"
   ]
  },
  {
   "cell_type": "code",
   "execution_count": null,
   "id": "c90359c2-f1de-4feb-95f9-f51e32c975a7",
   "metadata": {},
   "outputs": [],
   "source": []
  }
 ],
 "metadata": {
  "kernelspec": {
   "display_name": "Python 3 (ipykernel)",
   "language": "python",
   "name": "python3"
  },
  "language_info": {
   "codemirror_mode": {
    "name": "ipython",
    "version": 3
   },
   "file_extension": ".py",
   "mimetype": "text/x-python",
   "name": "python",
   "nbconvert_exporter": "python",
   "pygments_lexer": "ipython3",
   "version": "3.8.0"
  }
 },
 "nbformat": 4,
 "nbformat_minor": 5
}
